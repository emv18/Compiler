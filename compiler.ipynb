{
 "cells": [
  {
   "attachments": {},
   "cell_type": "markdown",
   "metadata": {},
   "source": [
    "# Compiler\n",
    "@Author Eduardo Morales Vizcarra & Diego Alejandro Iñiguez"
   ]
  },
  {
   "cell_type": "code",
   "execution_count": 10,
   "metadata": {},
   "outputs": [],
   "source": [
    "class Compiler:\n",
    "    def __init__(self):\n",
    "        self.delim= ['.', ',', ';', '(', ')', '[', ']', ':', '<nl>', '<tab>']\n",
    "        self.opArit= ['+', '-', '*', '/', '%', '^']\n",
    "        self.opRel=['=', '<>', '<', '>', '<=', '>=']\n",
    "        self.opLog= ['y', 'o', 'no']\n",
    "        self.wordRes= ['constantes', 'variables', 'real', 'alfabetico', 'logico', 'entero', 'funcion', 'inicio', 'fin', 'de', 'procedimiento', 'regresa', 'si', 'hacer', 'sino', \n",
    "                       'cuando', 'el', 'valor', 'sea', 'otro', 'desde', 'hasta', 'incr', 'decr', 'repetir', 'que', 'mientras', 'se', 'cumpla', 'continua', 'interrumpe', 'limpia', 'lee', \n",
    "                       'imprime', 'imprimenl', 'verdadero', 'falso']\n",
    "        self.opAsig= [':=']\n",
    "        self.variables= []\n",
    "        self.output_file= 'result.up'\n",
    "        self.error_file= 'errors.err'\n",
    "        self.tokens_file= 'tokens.lex'\n",
    "        self.code_file= 'code.eje'\n",
    "    \n",
    "    def isfloat(self, num):\n",
    "        try:\n",
    "            float(num)\n",
    "            return True\n",
    "        except ValueError:\n",
    "            return False\n",
    "    \n",
    "    def readCode(self):\n",
    "        with open(self, 'r') as f:\n",
    "            program= f.readlines()\n",
    "            return program\n",
    "    \n",
    "    def identifyNumbers(self):      \n",
    "        numbers = []\n",
    "        for char in self:\n",
    "            if(char.split(';')): identifier= char.split(';')\n",
    "            identifier= identifier[0].split(\" \")\n",
    "            for i in identifier:\n",
    "                if i.isdigit() or Compiler.isfloat(self, i):\n",
    "                    numbers.append(i)\n",
    "                    continue\n",
    "        return numbers\n",
    "    \n",
    "    def identifyComments(self):\n",
    "        comments= []\n",
    "        for char in self:\n",
    "            id_comment= []\n",
    "            if(\"//\" in  char):\n",
    "                comment_init= char.find('//')\n",
    "                id_comment.append(char[comment_init:])\n",
    "            id_comment= \" \".join(id_comment)\n",
    "            comments.append(id_comment)\n",
    "        for i in range(len(comments)):\n",
    "            for i in comments:\n",
    "                if(i == ''): comments.remove(i)\n",
    "        return comments\n",
    "\n",
    "    def identifyVariables(self):\n",
    "        variables= []\n",
    "        variables_res= ['real', 'alfabetico', 'logico', 'entero']\n",
    "        for char in self:\n",
    "            var= char.split(' ')\n",
    "            if(var[0] == 'constantes' or var[0] == 'variables'):\n",
    "                for i in variables_res:\n",
    "                    if(i == var[1]):\n",
    "                        if(var[2] == ':='):\n",
    "                            if(var[1] == 'entero'):\n",
    "                                number= var[3].split(';')\n",
    "                                number= number[0]\n",
    "                                semicolon= var[3].split('\\n')\n",
    "                                semicolon= semicolon[0]\n",
    "                                if(number.isdigit()):\n",
    "                                    if(semicolon[-1] == ';'):\n",
    "                                        variables.append(var[0] + \" \" +var[1])\n",
    "                                else: \n",
    "                                    continue\n",
    "                            elif(var[1] == 'real'):\n",
    "                                number= var[3].split(';')\n",
    "                                number= number[0]\n",
    "                                semicolon= var[3].split('\\n')\n",
    "                                semicolon= semicolon[0]\n",
    "                                if(Compiler.isfloat(self, number)):\n",
    "                                    if(semicolon[-1] == ';'):\n",
    "                                        variables.append(var[0] + \" \" +var[1])\n",
    "                                else: \n",
    "                                    continue\n",
    "                            elif(var[1] == 'alfabetico'):\n",
    "                                alfa= var[3].split(';')\n",
    "                                alfa= alfa[0]\n",
    "                                alfa_init= alfa[0]\n",
    "                                alfa_end= alfa[-1]\n",
    "                                semicolon= var[3].split('\\n')\n",
    "                                semicolon= semicolon[0]\n",
    "                                if(alfa_init == '\"' and alfa_end == '\"'):\n",
    "                                    if(semicolon[-1] == ';'):\n",
    "                                        variables.append(var[0] + \" \" +var[1])\n",
    "                                else: \n",
    "                                    continue\n",
    "                            elif(var[1] == 'logico'):\n",
    "                                logic= var[3].split(';')\n",
    "                                logic= logic[0]\n",
    "                                semicolon= var[3].split('\\n')\n",
    "                                semicolon= semicolon[0]\n",
    "                                if(logic == 'verdadero' or logic == 'falso'):\n",
    "                                    if(semicolon[-1] == ';'):\n",
    "                                        variables.append(var[0] + \" \" +var[1])\n",
    "                                else: \n",
    "                                    continue\n",
    "        return variables"
   ]
  },
  {
   "attachments": {},
   "cell_type": "markdown",
   "metadata": {},
   "source": [
    "### Reads Code"
   ]
  },
  {
   "cell_type": "code",
   "execution_count": 11,
   "metadata": {},
   "outputs": [
    {
     "name": "stdout",
     "output_type": "stream",
     "text": [
      "constantes real := 3.4;\n",
      "\n",
      "variables alfabetico := \"hola\";\n",
      "\n",
      "constantes logico := verdadero;\n",
      "\n",
      "variables entero := 3;\n",
      "\n",
      "\n",
      "\n",
      "// Este es un comentario\n"
     ]
    }
   ],
   "source": [
    "input_file= Compiler.readCode('codigo.eje')\n",
    "for i in input_file: print(i)"
   ]
  },
  {
   "attachments": {},
   "cell_type": "markdown",
   "metadata": {},
   "source": [
    "### Identificador de números"
   ]
  },
  {
   "cell_type": "code",
   "execution_count": 12,
   "metadata": {},
   "outputs": [
    {
     "name": "stdout",
     "output_type": "stream",
     "text": [
      "3.4\n",
      "3\n"
     ]
    }
   ],
   "source": [
    "numbers= Compiler.identifyNumbers(input_file)\n",
    "for i in numbers: print(i)"
   ]
  },
  {
   "attachments": {},
   "cell_type": "markdown",
   "metadata": {},
   "source": [
    "### Identificador de comentarios"
   ]
  },
  {
   "cell_type": "code",
   "execution_count": 13,
   "metadata": {},
   "outputs": [
    {
     "name": "stdout",
     "output_type": "stream",
     "text": [
      "// Este es un comentario\n"
     ]
    }
   ],
   "source": [
    "comments= Compiler.identifyComments(input_file)\n",
    "for i in comments: print(i)"
   ]
  },
  {
   "attachments": {},
   "cell_type": "markdown",
   "metadata": {},
   "source": [
    "### Identificador de variables"
   ]
  },
  {
   "cell_type": "code",
   "execution_count": 14,
   "metadata": {},
   "outputs": [
    {
     "name": "stdout",
     "output_type": "stream",
     "text": [
      "constantes real\n",
      "variables alfabetico\n",
      "constantes logico\n",
      "variables entero\n"
     ]
    }
   ],
   "source": [
    "variables= Compiler.identifyVariables(input_file)\n",
    "for i in variables: print(i)"
   ]
  },
  {
   "attachments": {},
   "cell_type": "markdown",
   "metadata": {},
   "source": [
    "### Error File"
   ]
  },
  {
   "cell_type": "code",
   "execution_count": 15,
   "metadata": {},
   "outputs": [],
   "source": [
    "def errorFile(self):\n",
    "    print('-------------------------------------------------------------------')\n",
    "    print('Línea          Error           Descripción          Línea del error')\n",
    "    print('-------------------------------------------------------------------')"
   ]
  },
  {
   "attachments": {},
   "cell_type": "markdown",
   "metadata": {},
   "source": [
    "### Lexeme File"
   ]
  },
  {
   "cell_type": "code",
   "execution_count": 16,
   "metadata": {},
   "outputs": [],
   "source": [
    "def lexemeFile(self):\n",
    "    print('-------------------------------------------------------------------')\n",
    "    print('Lexema                                                        Token')\n",
    "    print('-------------------------------------------------------------------')"
   ]
  }
 ],
 "metadata": {
  "kernelspec": {
   "display_name": "base",
   "language": "python",
   "name": "python3"
  },
  "language_info": {
   "codemirror_mode": {
    "name": "ipython",
    "version": 3
   },
   "file_extension": ".py",
   "mimetype": "text/x-python",
   "name": "python",
   "nbconvert_exporter": "python",
   "pygments_lexer": "ipython3",
   "version": "3.9.12"
  },
  "orig_nbformat": 4
 },
 "nbformat": 4,
 "nbformat_minor": 2
}
